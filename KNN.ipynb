{
 "cells": [
  {
   "cell_type": "code",
   "execution_count": null,
   "metadata": {},
   "outputs": [],
   "source": [
    "# load packages\n",
    "\n",
    "import re\n",
    "\n",
    "import pandas as pd\n",
    "import numpy as np\n",
    "\n",
    "from pdfminer.pdfinterp import PDFResourceManager, PDFPageInterpreter\n",
    "from pdfminer.converter import TextConverter, XMLConverter, HTMLConverter\n",
    "from pdfminer.layout import LAParams\n",
    "from pdfminer.pdfpage import PDFPage\n",
    "from io import BytesIO\n",
    "\n",
    "from sklearn.neighbors import KNeighborsClassifier\n",
    "from sklearn.neighbors import NearestNeighbors\n",
    "from sklearn.model_selection import train_test_split\n",
    "\n",
    "from sklearn import preprocessing\n",
    "\n",
    "import operator\n",
    "\n",
    "import matplotlib.pyplot as plt\n",
    "import seaborn as sns\n",
    "plt.style.use(\"ggplot\")"
   ]
  },
  {
   "cell_type": "code",
   "execution_count": null,
   "metadata": {},
   "outputs": [],
   "source": [
    "pwd"
   ]
  },
  {
   "cell_type": "code",
   "execution_count": null,
   "metadata": {},
   "outputs": [],
   "source": [
    "# read data from the pdf file\n",
    "\n",
    "def read_pdf_file(path,format='text', codec='utf-8', password=''):\n",
    "    rsrcmgr = PDFResourceManager()\n",
    "    retstr = BytesIO()\n",
    "    laparams = LAParams()\n",
    "    device = TextConverter(rsrcmgr, retstr, codec=codec, laparams=laparams)\n",
    "    fp = open(path, 'rb')\n",
    "    interpreter = PDFPageInterpreter(rsrcmgr, device)\n",
    "    maxpages = 0\n",
    "    caching = True\n",
    "    pagenos=set()\n",
    "    for page in PDFPage.get_pages(fp, pagenos, maxpages=maxpages, password=password,caching=caching, check_extractable=False):\n",
    "        interpreter.process_page(page)\n",
    "    text = retstr.getvalue().decode()\n",
    "    fp.close()\n",
    "    device.close()\n",
    "    retstr.close()\n",
    "    return text"
   ]
  },
  {
   "cell_type": "code",
   "execution_count": null,
   "metadata": {},
   "outputs": [],
   "source": [
    "pdf_text = read_pdf_file('/Users/Jenny/Documents/Jupyter/data.pdf')"
   ]
  },
  {
   "cell_type": "code",
   "execution_count": null,
   "metadata": {},
   "outputs": [],
   "source": [
    "# extract the data from the text data\n",
    "\n",
    "def extract_data(pdf_text):\n",
    "    # split the data by the '\\n\\n' into list\n",
    "    split_list = pdf_text.split('\\n\\n')\n",
    "    \n",
    "    # extract the item start with number\n",
    "    r = re.compile(\"^\\d\")\n",
    "    split_list = list(filter(r.match, split_list))\n",
    "    \n",
    "    # data list \n",
    "    raw = '\\n'.join(split_list).strip()\n",
    "    raw = raw.split(' \\n')\n",
    "    \n",
    "    # final dataset\n",
    "    data = [d.split(',') for d in raw]\n",
    "    \n",
    "    return pd.DataFrame(data) "
   ]
  },
  {
   "cell_type": "code",
   "execution_count": null,
   "metadata": {},
   "outputs": [],
   "source": [
    "data = extract_data(pdf_text)\n",
    "\n",
    "# rename the columns\n",
    "data.rename(columns={0:'r1',\n",
    "                     1:'r2',\n",
    "                     2:'r3',\n",
    "                     3:'r4',\n",
    "                     4:'label'},inplace=True)\n",
    "\n",
    "data.head()"
   ]
  },
  {
   "cell_type": "code",
   "execution_count": null,
   "metadata": {},
   "outputs": [],
   "source": [
    "data.to_csv('data.csv',index=False)"
   ]
  },
  {
   "cell_type": "code",
   "execution_count": null,
   "metadata": {},
   "outputs": [],
   "source": [
    "data[['r1','r2','r3','r4']] = data[['r1','r2','r3','r4']].astype('float')\n",
    "data.info()"
   ]
  },
  {
   "cell_type": "markdown",
   "metadata": {},
   "source": [
    "# KNN Classification by euclidean_distance "
   ]
  },
  {
   "cell_type": "code",
   "execution_count": null,
   "metadata": {},
   "outputs": [],
   "source": [
    "# build the dataset\n",
    "x = data[['r1','r2','r3','r4']]\n",
    "y = data.label\n",
    "\n",
    "# utilize the sklearn to train the model\n",
    "x_train,x_test,y_train,y_test = train_test_split(x,y)"
   ]
  },
  {
   "cell_type": "code",
   "execution_count": null,
   "metadata": {},
   "outputs": [],
   "source": [
    "# https://scikit-learn.org/stable/modules/generated/sklearn.neighbors.KNeighborsClassifier.html\n",
    "# p represents the method to calculate the distance among points, p = 2 is euclidean_distance \n",
    "knn_classifier = KNeighborsClassifier(6, p=2)\n",
    "knn_classifier.fit(x_train,y_train)\n",
    "y_predict = knn_classifier.predict(x_test)\n",
    "\n",
    "# the accuracy\n",
    "sum(y_predict == y_test)/len(y_test)"
   ]
  },
  {
   "cell_type": "code",
   "execution_count": null,
   "metadata": {},
   "outputs": [],
   "source": [
    "acc = []\n",
    "for i in range(2,11):\n",
    "    knn_classifier = KNeighborsClassifier(i, p=2)\n",
    "    knn_classifier.fit(x_train,y_train)\n",
    "    y_predict = knn_classifier.predict(x_test)\n",
    "    acc.append(sum(y_predict == y_test)/len(y_test))"
   ]
  },
  {
   "cell_type": "code",
   "execution_count": null,
   "metadata": {},
   "outputs": [],
   "source": [
    "acc_df = pd.DataFrame(acc,list(range(2,11))).reset_index()\n",
    "acc_df.columns = ['k','acc']\n",
    "acc_df.plot('k','acc')"
   ]
  },
  {
   "cell_type": "markdown",
   "metadata": {},
   "source": [
    "-  from the result, choose k = 3 to maximize the accuracy by euclidean_distance"
   ]
  },
  {
   "cell_type": "code",
   "execution_count": null,
   "metadata": {},
   "outputs": [],
   "source": [
    "# write the model manually \n",
    "\n",
    "def knn_class(newX, dataset, labels, k):\n",
    "    # sample size\n",
    "    dataSetSize = dataset.shape[0] \n",
    "    \n",
    "    # method to calculate the Euclidean distance\n",
    "    diffMat = np.tile(newX, (dataSetSize, 1)) - dataset\n",
    "    sqDiffMat = diffMat ** 2\n",
    "    sqDistance = sqDiffMat.sum(axis=1) \n",
    "    distance = sqDistance ** 0.5\n",
    "\n",
    "    # sort the distance\n",
    "    # classify the newX as the mojority class of k nears point\n",
    "    sortedDistIndicies = distance.argsort()\n",
    "    classCount = {}\n",
    "\n",
    "    for i in range(k):\n",
    "        voteIlabel = labels[sortedDistIndicies[i]]\n",
    "        classCount[voteIlabel] = classCount.get(voteIlabel, 0) + 1\n",
    "\n",
    "    sortedClassCount = sorted(classCount.items(), key=operator.itemgetter(1), reverse=True)\n",
    "    return sortedClassCount[0][0]"
   ]
  },
  {
   "cell_type": "code",
   "execution_count": null,
   "metadata": {},
   "outputs": [],
   "source": [
    "# use the best k = 3\n",
    "knn_classifier = KNeighborsClassifier(3, p=2)\n",
    "knn_classifier.fit(x_train,y_train)\n",
    "y_predict = knn_classifier.predict(x_test)\n",
    "\n",
    "result = []\n",
    "for i in range(x_test.shape[0]):\n",
    "    result.append(knn_class(x_test.iloc[i], x, y, 3))\n",
    "    \n",
    "sim = sum(result == y_predict)/len(result)\n",
    "\n",
    "print('the result of sklearn and model written manually are {} % same'.format(sim*100))"
   ]
  },
  {
   "cell_type": "markdown",
   "metadata": {},
   "source": [
    "# Normalization"
   ]
  },
  {
   "cell_type": "markdown",
   "metadata": {},
   "source": [
    "- (X-mean)/std"
   ]
  },
  {
   "cell_type": "code",
   "execution_count": null,
   "metadata": {},
   "outputs": [],
   "source": [
    "x_norm = preprocessing.scale(x)\n",
    "x_train_norm,x_test_norm,y_train_norm,y_test_norm = train_test_split(x_norm,y)"
   ]
  },
  {
   "cell_type": "code",
   "execution_count": null,
   "metadata": {},
   "outputs": [],
   "source": [
    "knn_classifier_norm = KNeighborsClassifier(7, p=2)\n",
    "knn_classifier_norm.fit(x_train_norm,y_train_norm)\n",
    "y_predict_norm = knn_classifier.predict(x_test_norm)\n",
    "\n",
    "# the accuracy\n",
    "sum(y_predict_norm == y_test_norm)/len(y_test_norm)"
   ]
  },
  {
   "cell_type": "markdown",
   "metadata": {},
   "source": [
    "# KNN Classification by manhattan_distance"
   ]
  },
  {
   "cell_type": "code",
   "execution_count": null,
   "metadata": {},
   "outputs": [],
   "source": [
    "# https://scikit-learn.org/stable/modules/generated/sklearn.neighbors.KNeighborsClassifier.html\n",
    "# p represents the method to calculate the distance among points, p = 1 is manhattan_distance\n",
    "knn_classifier = KNeighborsClassifier(6, p=2)\n",
    "knn_classifier.fit(x_train,y_train)\n",
    "y_predict = knn_classifier.predict(x_test)\n",
    "\n",
    "# the accuracy\n",
    "sum(y_predict == y_test)/len(y_test)"
   ]
  },
  {
   "cell_type": "code",
   "execution_count": null,
   "metadata": {},
   "outputs": [],
   "source": [
    "acc = []\n",
    "for i in range(2,11):\n",
    "    knn_classifier = KNeighborsClassifier(i, p=1)\n",
    "    knn_classifier.fit(x_train,y_train)\n",
    "    y_predict = knn_classifier.predict(x_test)\n",
    "    acc.append(sum(y_predict == y_test)/len(y_test))"
   ]
  },
  {
   "cell_type": "code",
   "execution_count": null,
   "metadata": {},
   "outputs": [],
   "source": [
    "acc_df = pd.DataFrame(acc,list(range(2,11))).reset_index()\n",
    "acc_df.columns = ['k','acc']\n",
    "acc_df.plot('k','acc')"
   ]
  },
  {
   "cell_type": "markdown",
   "metadata": {},
   "source": [
    "-  from the result, choose k = 3 to maximize the accuracy by manhattan_distance"
   ]
  }
 ],
 "metadata": {
  "kernelspec": {
   "display_name": "Python 3",
   "language": "python",
   "name": "python3"
  },
  "language_info": {
   "codemirror_mode": {
    "name": "ipython",
    "version": 3
   },
   "file_extension": ".py",
   "mimetype": "text/x-python",
   "name": "python",
   "nbconvert_exporter": "python",
   "pygments_lexer": "ipython3",
   "version": "3.6.5"
  },
  "toc": {
   "base_numbering": 1,
   "nav_menu": {},
   "number_sections": true,
   "sideBar": true,
   "skip_h1_title": false,
   "title_cell": "Table of Contents",
   "title_sidebar": "Contents",
   "toc_cell": false,
   "toc_position": {},
   "toc_section_display": true,
   "toc_window_display": false
  }
 },
 "nbformat": 4,
 "nbformat_minor": 2
}
