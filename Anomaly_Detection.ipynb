{
  "nbformat": 4,
  "nbformat_minor": 0,
  "metadata": {
    "kernelspec": {
      "display_name": "Python 3",
      "language": "python",
      "name": "python3"
    },
    "language_info": {
      "codemirror_mode": {
        "name": "ipython",
        "version": 3
      },
      "file_extension": ".py",
      "mimetype": "text/x-python",
      "name": "python",
      "nbconvert_exporter": "python",
      "pygments_lexer": "ipython3",
      "version": "3.7.3"
    },
    "toc": {
      "base_numbering": 1,
      "nav_menu": {},
      "number_sections": true,
      "sideBar": true,
      "skip_h1_title": false,
      "title_cell": "Table of Contents",
      "title_sidebar": "Contents",
      "toc_cell": false,
      "toc_position": {
        "height": "calc(100% - 180px)",
        "left": "10px",
        "top": "150px",
        "width": "276px"
      },
      "toc_section_display": true,
      "toc_window_display": true
    },
    "colab": {
      "name": "Anomaly-Detection.ipynb",
      "provenance": [],
      "collapsed_sections": [
        "96NrSmnbIPEH",
        "W_an7SDVIPEM",
        "DyIVYMASIPEP"
      ],
      "toc_visible": true
    }
  },
  "cells": [
    {
      "cell_type": "code",
      "metadata": {
        "id": "xMR9PUNqIPDm",
        "colab_type": "code",
        "colab": {}
      },
      "source": [
        "import pandas as pd\n",
        "import numpy as np\n",
        "import seaborn as sns\n",
        "import matplotlib\n",
        "import matplotlib.pyplot as plt\n",
        "%matplotlib inline\n",
        "\n",
        "# NA\n",
        "import missingno as msno\n",
        "\n",
        "# dimensionality reduction \n",
        "from sklearn.preprocessing import StandardScaler\n",
        "from sklearn.decomposition import PCA\n",
        "\n",
        "from sklearn.discriminant_analysis import LinearDiscriminantAnalysis\n",
        "from sklearn.preprocessing import minmax_scale\n",
        "\n",
        "from sklearn.manifold import TSNE\n",
        "import random\n",
        "\n",
        "from sklearn.manifold import Isomap\n",
        "\n",
        "# model part\n",
        "from sklearn.model_selection import train_test_split\n",
        "from sklearn.metrics import classification_report, accuracy_score\n",
        "from sklearn.ensemble import IsolationForest\n",
        "from sklearn import svm\n",
        "from sklearn.cluster import DBSCAN\n",
        "\n",
        "from keras.models import Model, load_model\n",
        "from keras.layers import Input, Dense\n",
        "from keras.callbacks import ModelCheckpoint, TensorBoard\n",
        "from keras import regularizers\n",
        "\n",
        "# upsampling\n",
        "from imblearn.over_sampling import SMOTE \n",
        "from imblearn.over_sampling import ADASYN\n",
        "\n",
        "import xgboost as xgb\n",
        "from sklearn.metrics import roc_curve, auc"
      ],
      "execution_count": 0,
      "outputs": []
    },
    {
      "cell_type": "markdown",
      "metadata": {
        "id": "cmi0MCEfIPDt",
        "colab_type": "text"
      },
      "source": [
        "# data check"
      ]
    },
    {
      "cell_type": "code",
      "metadata": {
        "id": "bHEtNeFQIPDu",
        "colab_type": "code",
        "outputId": "9edc1fa6-e4bb-4a83-9247-1f918c51c261",
        "colab": {
          "base_uri": "https://localhost:8080/",
          "height": 162
        }
      },
      "source": [
        "data = pd.read_csv('sample_data/creditcard.csv')\n",
        "data.head(3)"
      ],
      "execution_count": 0,
      "outputs": [
        {
          "output_type": "execute_result",
          "data": {
            "text/html": [
              "<div>\n",
              "<style scoped>\n",
              "    .dataframe tbody tr th:only-of-type {\n",
              "        vertical-align: middle;\n",
              "    }\n",
              "\n",
              "    .dataframe tbody tr th {\n",
              "        vertical-align: top;\n",
              "    }\n",
              "\n",
              "    .dataframe thead th {\n",
              "        text-align: right;\n",
              "    }\n",
              "</style>\n",
              "<table border=\"1\" class=\"dataframe\">\n",
              "  <thead>\n",
              "    <tr style=\"text-align: right;\">\n",
              "      <th></th>\n",
              "      <th>Time</th>\n",
              "      <th>V1</th>\n",
              "      <th>V2</th>\n",
              "      <th>V3</th>\n",
              "      <th>V4</th>\n",
              "      <th>V5</th>\n",
              "      <th>V6</th>\n",
              "      <th>V7</th>\n",
              "      <th>V8</th>\n",
              "      <th>V9</th>\n",
              "      <th>V10</th>\n",
              "      <th>V11</th>\n",
              "      <th>V12</th>\n",
              "      <th>V13</th>\n",
              "      <th>V14</th>\n",
              "      <th>V15</th>\n",
              "      <th>V16</th>\n",
              "      <th>V17</th>\n",
              "      <th>V18</th>\n",
              "      <th>V19</th>\n",
              "      <th>V20</th>\n",
              "      <th>V21</th>\n",
              "      <th>V22</th>\n",
              "      <th>V23</th>\n",
              "      <th>V24</th>\n",
              "      <th>V25</th>\n",
              "      <th>V26</th>\n",
              "      <th>V27</th>\n",
              "      <th>V28</th>\n",
              "      <th>Amount</th>\n",
              "      <th>Class</th>\n",
              "    </tr>\n",
              "  </thead>\n",
              "  <tbody>\n",
              "    <tr>\n",
              "      <th>0</th>\n",
              "      <td>0.0</td>\n",
              "      <td>-1.359807</td>\n",
              "      <td>-0.072781</td>\n",
              "      <td>2.536347</td>\n",
              "      <td>1.378155</td>\n",
              "      <td>-0.338321</td>\n",
              "      <td>0.462388</td>\n",
              "      <td>0.239599</td>\n",
              "      <td>0.098698</td>\n",
              "      <td>0.363787</td>\n",
              "      <td>0.090794</td>\n",
              "      <td>-0.551600</td>\n",
              "      <td>-0.617801</td>\n",
              "      <td>-0.991390</td>\n",
              "      <td>-0.311169</td>\n",
              "      <td>1.468177</td>\n",
              "      <td>-0.470401</td>\n",
              "      <td>0.207971</td>\n",
              "      <td>0.025791</td>\n",
              "      <td>0.403993</td>\n",
              "      <td>0.251412</td>\n",
              "      <td>-0.018307</td>\n",
              "      <td>0.277838</td>\n",
              "      <td>-0.110474</td>\n",
              "      <td>0.066928</td>\n",
              "      <td>0.128539</td>\n",
              "      <td>-0.189115</td>\n",
              "      <td>0.133558</td>\n",
              "      <td>-0.021053</td>\n",
              "      <td>149.62</td>\n",
              "      <td>0</td>\n",
              "    </tr>\n",
              "    <tr>\n",
              "      <th>1</th>\n",
              "      <td>0.0</td>\n",
              "      <td>1.191857</td>\n",
              "      <td>0.266151</td>\n",
              "      <td>0.166480</td>\n",
              "      <td>0.448154</td>\n",
              "      <td>0.060018</td>\n",
              "      <td>-0.082361</td>\n",
              "      <td>-0.078803</td>\n",
              "      <td>0.085102</td>\n",
              "      <td>-0.255425</td>\n",
              "      <td>-0.166974</td>\n",
              "      <td>1.612727</td>\n",
              "      <td>1.065235</td>\n",
              "      <td>0.489095</td>\n",
              "      <td>-0.143772</td>\n",
              "      <td>0.635558</td>\n",
              "      <td>0.463917</td>\n",
              "      <td>-0.114805</td>\n",
              "      <td>-0.183361</td>\n",
              "      <td>-0.145783</td>\n",
              "      <td>-0.069083</td>\n",
              "      <td>-0.225775</td>\n",
              "      <td>-0.638672</td>\n",
              "      <td>0.101288</td>\n",
              "      <td>-0.339846</td>\n",
              "      <td>0.167170</td>\n",
              "      <td>0.125895</td>\n",
              "      <td>-0.008983</td>\n",
              "      <td>0.014724</td>\n",
              "      <td>2.69</td>\n",
              "      <td>0</td>\n",
              "    </tr>\n",
              "    <tr>\n",
              "      <th>2</th>\n",
              "      <td>1.0</td>\n",
              "      <td>-1.358354</td>\n",
              "      <td>-1.340163</td>\n",
              "      <td>1.773209</td>\n",
              "      <td>0.379780</td>\n",
              "      <td>-0.503198</td>\n",
              "      <td>1.800499</td>\n",
              "      <td>0.791461</td>\n",
              "      <td>0.247676</td>\n",
              "      <td>-1.514654</td>\n",
              "      <td>0.207643</td>\n",
              "      <td>0.624501</td>\n",
              "      <td>0.066084</td>\n",
              "      <td>0.717293</td>\n",
              "      <td>-0.165946</td>\n",
              "      <td>2.345865</td>\n",
              "      <td>-2.890083</td>\n",
              "      <td>1.109969</td>\n",
              "      <td>-0.121359</td>\n",
              "      <td>-2.261857</td>\n",
              "      <td>0.524980</td>\n",
              "      <td>0.247998</td>\n",
              "      <td>0.771679</td>\n",
              "      <td>0.909412</td>\n",
              "      <td>-0.689281</td>\n",
              "      <td>-0.327642</td>\n",
              "      <td>-0.139097</td>\n",
              "      <td>-0.055353</td>\n",
              "      <td>-0.059752</td>\n",
              "      <td>378.66</td>\n",
              "      <td>0</td>\n",
              "    </tr>\n",
              "  </tbody>\n",
              "</table>\n",
              "</div>"
            ],
            "text/plain": [
              "   Time        V1        V2        V3  ...       V27       V28  Amount  Class\n",
              "0   0.0 -1.359807 -0.072781  2.536347  ...  0.133558 -0.021053  149.62      0\n",
              "1   0.0  1.191857  0.266151  0.166480  ... -0.008983  0.014724    2.69      0\n",
              "2   1.0 -1.358354 -1.340163  1.773209  ... -0.055353 -0.059752  378.66      0\n",
              "\n",
              "[3 rows x 31 columns]"
            ]
          },
          "metadata": {
            "tags": []
          },
          "execution_count": 4
        }
      ]
    },
    {
      "cell_type": "markdown",
      "metadata": {
        "id": "6ygWc6vaIPD0",
        "colab_type": "text"
      },
      "source": [
        "## check the missing value"
      ]
    },
    {
      "cell_type": "code",
      "metadata": {
        "id": "W69c_VXmIPD0",
        "colab_type": "code",
        "outputId": "0b0a0512-e502-46de-f0d3-c7e6cfc9f491",
        "colab": {}
      },
      "source": [
        "msno.bar(data)"
      ],
      "execution_count": 0,
      "outputs": [
        {
          "output_type": "execute_result",
          "data": {
            "text/plain": [
              "<matplotlib.axes._subplots.AxesSubplot at 0x1a36d4a240>"
            ]
          },
          "metadata": {
            "tags": []
          },
          "execution_count": 4
        },
        {
          "output_type": "display_data",
          "data": {
            "image/png": "[encoded data removed]",
            "text/plain": [
              "<Figure size 1728x720 with 3 Axes>"
            ]
          },
          "metadata": {
            "tags": []
          }
        }
      ]
    },
    {
      "cell_type": "markdown",
      "metadata": {
        "id": "JHWv5xQBIPD4",
        "colab_type": "text"
      },
      "source": [
        "## check the class distribution "
      ]
    },
    {
      "cell_type": "markdown",
      "metadata": {
        "id": "kKFIiox8IPD5",
        "colab_type": "text"
      },
      "source": [
        "- this is really imbalanced dataset"
      ]
    },
    {
      "cell_type": "code",
      "metadata": {
        "id": "GaXnu80CIPD5",
        "colab_type": "code",
        "outputId": "606e5b23-12e9-4d04-dfd9-cd337aeb4e67",
        "colab": {}
      },
      "source": [
        "data.Class.value_counts().plot(kind='bar',figsize=(3, 3))\n",
        "plt.title(\"Fraud class histogram\")\n",
        "plt.xlabel(\"Class\")\n",
        "plt.ylabel(\"Frequency\")\n",
        "plt.show()"
      ],
      "execution_count": 0,
      "outputs": [
        {
          "output_type": "display_data",
          "data": {
            "image/png": "[encoded data removed]",
            "text/plain": [
              "<Figure size 216x216 with 1 Axes>"
            ]
          },
          "metadata": {
            "tags": []
          }
        }
      ]
    },
    {
      "cell_type": "code",
      "metadata": {
        "id": "q0rzdEbhIPD8",
        "colab_type": "code",
        "outputId": "dd11d43b-f909-40a5-995d-9e818b9c482a",
        "colab": {}
      },
      "source": [
        "class_dist = list(data.Class.value_counts()/data.shape[0]*100)\n",
        "print('Percentage of normal transactions: {}%'.format(class_dist[0]))\n",
        "print('Percentage of fraud transactions: {}'.format(class_dist[1]))"
      ],
      "execution_count": 0,
      "outputs": [
        {
          "output_type": "stream",
          "text": [
            "Percentage of normal transactions: 99.82725143693798%\n",
            "Percentage of fraud transactions: 0.1727485630620034\n"
          ],
          "name": "stdout"
        }
      ]
    },
    {
      "cell_type": "markdown",
      "metadata": {
        "id": "HnjqKfDQIPD_",
        "colab_type": "text"
      },
      "source": [
        "# feature engineering"
      ]
    },
    {
      "cell_type": "markdown",
      "metadata": {
        "id": "FoVGnSqiIPD_",
        "colab_type": "text"
      },
      "source": [
        "## convert the secs to hours for time feature"
      ]
    },
    {
      "cell_type": "code",
      "metadata": {
        "id": "loMjETg3IPD_",
        "colab_type": "code",
        "outputId": "32df5d2c-5c38-4916-93c5-089183777801",
        "colab": {
          "base_uri": "https://localhost:8080/"
        }
      },
      "source": [
        "data['Time'] = ( data['Time'].values / 3600 ) % 24\n",
        "\n",
        "fig, ax = plt.subplots(figsize=(8, 4))\n",
        "sns.distplot(data.loc[data.Class == 0,'Time'], label='Normal', \n",
        "             ax=ax, hist=False, kde_kws={\"shade\": True})\n",
        "sns.distplot(data.loc[data.Class == 1,'Time'], label='Fraud', \n",
        "             ax=ax, hist=False, kde_kws={\"shade\": True})\n",
        "ax.set_title('Distribution Plot of Time', fontsize=16)\n",
        "ax.legend()\n",
        "plt.show()"
      ],
      "execution_count": 0,
      "outputs": [
        {
          "output_type": "display_data",
          "data": {
            "image/png": "[encoded data removed]",
            "text/plain": [
              "<Figure size 576x288 with 1 Axes>"
            ]
          },
          "metadata": {
            "tags": [],
            "needs_background": "light"
          }
        }
      ]
    },
    {
      "cell_type": "markdown",
      "metadata": {
        "id": "tCglK-CzIPEB",
        "colab_type": "text"
      },
      "source": [
        "# Viz"
      ]
    },
    {
      "cell_type": "code",
      "metadata": {
        "id": "k_Qk-tdRJHSp",
        "colab_type": "code",
        "colab": {}
      },
      "source": [
        "from sklearn.preprocessing import StandardScaler, RobustScaler\n",
        "\n",
        "# RobustScaler is less prone to outliers.\n",
        "\n",
        "std_scaler = StandardScaler()\n",
        "rob_scaler = RobustScaler()\n",
        "\n",
        "data['scaled_amount'] = rob_scaler.fit_transform(data['Amount'].values.reshape(-1,1))\n",
        "data['scaled_time'] = rob_scaler.fit_transform(data['Time'].values.reshape(-1,1))\n",
        "\n",
        "data.drop(['Time','Amount'], axis=1, inplace=True)"
      ],
      "execution_count": 0,
      "outputs": []
    },
    {
      "cell_type": "code",
      "metadata": {
        "id": "kTpMtWlrIPEC",
        "colab_type": "code",
        "colab": {}
      },
      "source": [
        "X = data.drop('Class', axis=1)\n",
        "y = data.Class"
      ],
      "execution_count": 0,
      "outputs": []
    },
    {
      "cell_type": "markdown",
      "metadata": {
        "id": "n2gUVbknIPED",
        "colab_type": "text"
      },
      "source": [
        "## PCA"
      ]
    },
    {
      "cell_type": "code",
      "metadata": {
        "id": "A5Lzk8WUIPEE",
        "colab_type": "code",
        "colab": {}
      },
      "source": [
        "def pca_process(X, y):\n",
        "    scaler = StandardScaler()   \n",
        "    norm_X = scaler.fit_transform(X)\n",
        "    \n",
        "    \n",
        "    pca = PCA(n_components=2, random_state=42)\n",
        "    pca_matrix = pca.fit_transform(norm_X)   \n",
        "\n",
        "    pca_df = pd.DataFrame(pca_matrix, columns=['PC1', 'PC2'])\n",
        "    \n",
        "    pca_df['class'] = y\n",
        "    \n",
        "    return pca_df"
      ],
      "execution_count": 0,
      "outputs": []
    },
    {
      "cell_type": "code",
      "metadata": {
        "id": "CD9F13WMIPEF",
        "colab_type": "code",
        "outputId": "25608d27-e973-4986-8f11-42c3d2fb5f87",
        "colab": {}
      },
      "source": [
        "pca_df = pca_process(X, y)\n",
        "\n",
        "ax = sns.lmplot(data = pca_df, x='PC2', y='PC1', hue='class', size=5, aspect=10, fit_reg=False,\n",
        "               scatter_kws={'alpha': 0.3})\n",
        "fig = plt.gcf()\n",
        "fig.set_size_inches(15, 7)"
      ],
      "execution_count": 0,
      "outputs": [
        {
          "output_type": "display_data",
          "data": {
            "image/png": "[encoded data removed]",
            "text/plain": [
              "<Figure size 1080x504 with 1 Axes>"
            ]
          },
          "metadata": {
            "tags": []
          }
        }
      ]
    },
    {
      "cell_type": "markdown",
      "metadata": {
        "id": "96NrSmnbIPEH",
        "colab_type": "text"
      },
      "source": [
        "## LDA"
      ]
    },
    {
      "cell_type": "code",
      "metadata": {
        "id": "0SIoo3gQIPEH",
        "colab_type": "code",
        "colab": {}
      },
      "source": [
        "def lda_process(X, y):\n",
        "    lda = LinearDiscriminantAnalysis(n_components=2)\n",
        "    \n",
        "    lda.fit(X, y) \n",
        "    lda_X = lda.fit(X, y).transform(X)\n",
        "\n",
        "    pred = lda.predict(X)\n",
        "    \n",
        "    lda_df = pd.DataFrame(lda_X)\n",
        "    lda_df['class'] = pred\n",
        "    lda_df.rename(columns={0:'x'},inplace=True)\n",
        "    \n",
        "    target_names = ['Normal', 'Fraud']\n",
        "    confusion_matrix = print(classification_report(y, pred, target_names=target_names))\n",
        "    \n",
        "    return lda_df, confusion_matrix"
      ],
      "execution_count": 0,
      "outputs": []
    },
    {
      "cell_type": "code",
      "metadata": {
        "id": "FhPhxBPyIPEJ",
        "colab_type": "code",
        "outputId": "1094f1ff-fbc5-4057-917a-d9a1897fef81",
        "colab": {}
      },
      "source": [
        "lda_df, confusion_matrix = lda_process(X, y)"
      ],
      "execution_count": 0,
      "outputs": [
        {
          "output_type": "stream",
          "text": [
            "/Users/Janice/anaconda3/lib/python3.6/site-packages/sklearn/discriminant_analysis.py:466: ChangedBehaviorWarning: n_components cannot be larger than min(n_features, n_classes - 1). Using min(n_features, n_classes - 1) = min(30, 2 - 1) = 1 components.\n",
            "  ChangedBehaviorWarning)\n",
            "/Users/Janice/anaconda3/lib/python3.6/site-packages/sklearn/discriminant_analysis.py:472: FutureWarning: In version 0.23, setting n_components > min(n_features, n_classes - 1) will raise a ValueError. You should set n_components to None (default), or a value smaller or equal to min(n_features, n_classes - 1).\n",
            "  warnings.warn(future_msg, FutureWarning)\n",
            "/Users/Janice/anaconda3/lib/python3.6/site-packages/sklearn/discriminant_analysis.py:466: ChangedBehaviorWarning: n_components cannot be larger than min(n_features, n_classes - 1). Using min(n_features, n_classes - 1) = min(30, 2 - 1) = 1 components.\n",
            "  ChangedBehaviorWarning)\n",
            "/Users/Janice/anaconda3/lib/python3.6/site-packages/sklearn/discriminant_analysis.py:472: FutureWarning: In version 0.23, setting n_components > min(n_features, n_classes - 1) will raise a ValueError. You should set n_components to None (default), or a value smaller or equal to min(n_features, n_classes - 1).\n",
            "  warnings.warn(future_msg, FutureWarning)\n"
          ],
          "name": "stderr"
        },
        {
          "output_type": "stream",
          "text": [
            "              precision    recall  f1-score   support\n",
            "\n",
            "      Normal       1.00      1.00      1.00    284315\n",
            "       Fraud       0.86      0.77      0.81       492\n",
            "\n",
            "    accuracy                           1.00    284807\n",
            "   macro avg       0.93      0.88      0.91    284807\n",
            "weighted avg       1.00      1.00      1.00    284807\n",
            "\n"
          ],
          "name": "stdout"
        }
      ]
    },
    {
      "cell_type": "code",
      "metadata": {
        "id": "HJgL5zmqIPEL",
        "colab_type": "code",
        "outputId": "bf694603-a982-4b14-b931-db0a78ce143a",
        "colab": {}
      },
      "source": [
        "cdict = {1: 'red', 0: 'blue'}\n",
        "\n",
        "fig, ax = plt.subplots()\n",
        "for g in cdict.keys():\n",
        "    plt.plot(lda_df[lda_df['class']==g].x, np.zeros_like(lda_df[lda_df['class']==g].x), 'x' ,c = cdict[g], label = g)\n",
        "ax.legend()\n",
        "plt.show()"
      ],
      "execution_count": 0,
      "outputs": [
        {
          "output_type": "display_data",
          "data": {
            "image/png": "[encoded data removed]",
            "text/plain": [
              "<Figure size 432x288 with 1 Axes>"
            ]
          },
          "metadata": {
            "tags": []
          }
        }
      ]
    },
    {
      "cell_type": "markdown",
      "metadata": {
        "id": "W_an7SDVIPEM",
        "colab_type": "text"
      },
      "source": [
        "## T-SNE"
      ]
    },
    {
      "cell_type": "code",
      "metadata": {
        "id": "Ff_ahZ53IPEM",
        "colab_type": "code",
        "colab": {}
      },
      "source": [
        "sample_data = pd.concat([data[data.Class==1].iloc[:50,:],data.sample(n=500, random_state=42)])\n",
        "sample_X = sample_data.drop('Class', axis=1)\n",
        "sample_y = sample_data.Class\n",
        "\n",
        "tsne_x = TSNE(n_components=2, random_state=42).fit_transform(sample_X)"
      ],
      "execution_count": 0,
      "outputs": []
    },
    {
      "cell_type": "code",
      "metadata": {
        "id": "jUFfdFkfIPEO",
        "colab_type": "code",
        "outputId": "239668e6-b4c1-452a-d1ce-5d22f561b827",
        "colab": {}
      },
      "source": [
        "cdict = {1: 'red', 0: 'blue'}\n",
        "clabel = {1: 'fraud', 0: 'normal'}\n",
        "\n",
        "fig, ax = plt.subplots()\n",
        "for g in cdict.keys():\n",
        "    plt.plot(tsne_x[sample_y==g][:,0], tsne_x[sample_y==g][:,1], 'x' ,c = cdict[g], label = clabel[g])\n",
        "ax.legend()\n",
        "plt.show()"
      ],
      "execution_count": 0,
      "outputs": [
        {
          "output_type": "display_data",
          "data": {
            "image/png": "[encoded data removed]",
            "text/plain": [
              "<Figure size 432x288 with 1 Axes>"
            ]
          },
          "metadata": {
            "tags": []
          }
        }
      ]
    },
    {
      "cell_type": "markdown",
      "metadata": {
        "id": "DyIVYMASIPEP",
        "colab_type": "text"
      },
      "source": [
        "## Isomap"
      ]
    },
    {
      "cell_type": "code",
      "metadata": {
        "id": "OlJ4bThrIPEQ",
        "colab_type": "code",
        "colab": {}
      },
      "source": [
        "isomap_x = Isomap(n_components=2).fit_transform(sample_X)"
      ],
      "execution_count": 0,
      "outputs": []
    },
    {
      "cell_type": "code",
      "metadata": {
        "id": "VSc705hNIPER",
        "colab_type": "code",
        "outputId": "e0417a2e-f95f-491b-8e31-a0ae9428d77a",
        "colab": {}
      },
      "source": [
        "cdict = {1: 'red', 0: 'blue'}\n",
        "clabel = {1: 'fraud', 0: 'normal'}\n",
        "\n",
        "fig, ax = plt.subplots()\n",
        "for g in cdict.keys():\n",
        "    plt.plot(isomap_x[sample_y==g][:,0], isomap_x[sample_y==g][:,1], 'x' ,c = cdict[g], label = clabel[g])\n",
        "ax.legend()\n",
        "plt.show()"
      ],
      "execution_count": 0,
      "outputs": [
        {
          "output_type": "display_data",
          "data": {
            "image/png": "[encoded data removed]",
            "text/plain": [
              "<Figure size 432x288 with 1 Axes>"
            ]
          },
          "metadata": {
            "tags": []
          }
        }
      ]
    },
    {
      "cell_type": "markdown",
      "metadata": {
        "id": "8kFPswuEIPET",
        "colab_type": "text"
      },
      "source": [
        "# anomaly detection"
      ]
    },
    {
      "cell_type": "code",
      "metadata": {
        "id": "HXOPhg6xIPET",
        "colab_type": "code",
        "colab": {}
      },
      "source": [
        "x_train,x_test,y_train,y_test=train_test_split(X,y,test_size=0.3,random_state=0)"
      ],
      "execution_count": 0,
      "outputs": []
    },
    {
      "cell_type": "markdown",
      "metadata": {
        "id": "kpD7pPisIPEb",
        "colab_type": "text"
      },
      "source": [
        "## DBSCAN"
      ]
    },
    {
      "cell_type": "code",
      "metadata": {
        "id": "u_DbcZdaO9XX",
        "colab_type": "code",
        "colab": {}
      },
      "source": [
        "from sklearn.metrics import f1_score"
      ],
      "execution_count": 0,
      "outputs": []
    },
    {
      "cell_type": "code",
      "metadata": {
        "id": "EGReKbqjKvNT",
        "colab_type": "code",
        "outputId": "eee0689a-514f-4e50-ad96-5136aa0a8f09",
        "colab": {
          "base_uri": "https://localhost:8080/",
          "height": 170
        }
      },
      "source": [
        "for ep in [2,5,10]:\n",
        "  for sample in [2,5,10]:\n",
        "    dbscan = DBSCAN(eps=ep, min_samples=sample)\n",
        "    dbscan.fit(x_train)\n",
        "\n",
        "    y_pred_train = dbscan.labels_\n",
        "    y_pred_train[y_pred_train!=0] = 1\n",
        "\n",
        "    print('f1 is {}'.format(f1_score(y_train, y_pred_train)),'ep:',ep, 'sample:',sample)"
      ],
      "execution_count": 0,
      "outputs": [
        {
          "output_type": "stream",
          "text": [
            "f1 is 0.006581134082297415 ep: 2 sample: 2\n",
            "f1 is 0.0065806966232384995 ep: 2 sample: 5\n",
            "f1 is 0.006573705179282868 ep: 2 sample: 10\n",
            "f1 is 0.26315789473684215 ep: 5 sample: 2\n",
            "f1 is 0.2535211267605634 ep: 5 sample: 5\n",
            "f1 is 0.2219482120838471 ep: 5 sample: 10\n",
            "f1 is 0.4383561643835617 ep: 10 sample: 2\n",
            "f1 is 0.4324324324324324 ep: 10 sample: 5\n",
            "f1 is 0.38399999999999995 ep: 10 sample: 10\n"
          ],
          "name": "stdout"
        }
      ]
    },
    {
      "cell_type": "code",
      "metadata": {
        "id": "rZj7KUC3LHrA",
        "colab_type": "code",
        "outputId": "db47880e-5d9f-45de-dbde-6d8110165457",
        "colab": {
          "base_uri": "https://localhost:8080/",
          "height": 170
        }
      },
      "source": [
        "target_names = ['Normal', 'Fraud']\n",
        "print(classification_report(y_train, y_pred_train, target_names=target_names))"
      ],
      "execution_count": 0,
      "outputs": [
        {
          "output_type": "stream",
          "text": [
            "              precision    recall  f1-score   support\n",
            "\n",
            "      Normal       1.00      0.99      1.00     30465\n",
            "       Fraud       0.26      0.69      0.38        99\n",
            "\n",
            "    accuracy                           0.99     30564\n",
            "   macro avg       0.63      0.84      0.69     30564\n",
            "weighted avg       1.00      0.99      0.99     30564\n",
            "\n"
          ],
          "name": "stdout"
        }
      ]
    },
    {
      "cell_type": "code",
      "metadata": {
        "id": "rblVKsWlTsgD",
        "colab_type": "code",
        "outputId": "c6cc85d2-f740-47f9-fbc2-a378cd5642f4",
        "colab": {
          "base_uri": "https://localhost:8080/",
          "height": 170
        }
      },
      "source": [
        "target_names = ['Normal', 'Fraud']\n",
        "print(classification_report(y_train, y_pred_train, target_names=target_names))"
      ],
      "execution_count": 0,
      "outputs": [
        {
          "output_type": "stream",
          "text": [
            "              precision    recall  f1-score   support\n",
            "\n",
            "      Normal       1.00      1.00      1.00     30465\n",
            "       Fraud       0.40      0.48      0.44        99\n",
            "\n",
            "    accuracy                           1.00     30564\n",
            "   macro avg       0.70      0.74      0.72     30564\n",
            "weighted avg       1.00      1.00      1.00     30564\n",
            "\n"
          ],
          "name": "stdout"
        }
      ]
    },
    {
      "cell_type": "markdown",
      "metadata": {
        "id": "EtBKtf_PIPEe",
        "colab_type": "text"
      },
      "source": [
        "## AutoEncoder"
      ]
    },
    {
      "cell_type": "code",
      "metadata": {
        "id": "qta7Eg8SIPEe",
        "colab_type": "code",
        "colab": {}
      },
      "source": [
        "train, test = train_test_split(data, test_size=0.2, random_state=42)\n",
        "X_train = train[train.Class == 0]\n",
        "X_train = X_train.drop(['Class'], axis=1)\n",
        "\n",
        "y_test = test['Class']\n",
        "X_test = test.drop(['Class'], axis=1)\n",
        "\n",
        "X_train = X_train.values\n",
        "X_test = X_test.values"
      ],
      "execution_count": 0,
      "outputs": []
    },
    {
      "cell_type": "code",
      "metadata": {
        "id": "X_jEsusVIPEg",
        "colab_type": "code",
        "colab": {}
      },
      "source": [
        "input_dim = X_train.shape[1]\n",
        "encoding_dim = 14"
      ],
      "execution_count": 0,
      "outputs": []
    },
    {
      "cell_type": "code",
      "metadata": {
        "id": "ElkcUmRIIPEh",
        "colab_type": "code",
        "colab": {}
      },
      "source": [
        "input_layer = Input(shape=(input_dim, ))\n",
        "\n",
        "encoder = Dense(encoding_dim, activation=\"tanh\", \n",
        "                activity_regularizer=regularizers.l1(10e-5))(input_layer)\n",
        "encoder = Dense(int(encoding_dim / 2), activation=\"relu\")(encoder)\n",
        "\n",
        "decoder = Dense(int(encoding_dim / 2), activation='tanh')(encoder)\n",
        "decoder = Dense(input_dim, activation='relu')(decoder)\n",
        "\n",
        "autoencoder = Model(inputs=input_layer, outputs=decoder)"
      ],
      "execution_count": 0,
      "outputs": []
    },
    {
      "cell_type": "code",
      "metadata": {
        "id": "hKISMNlTIPEi",
        "colab_type": "code",
        "outputId": "d61fedd9-48c8-4345-85cf-8d3daae4699a",
        "colab": {
          "base_uri": "https://localhost:8080/",
          "height": 581
        }
      },
      "source": [
        "nb_epoch = 15\n",
        "batch_size = 32\n",
        "\n",
        "autoencoder.compile(optimizer='adam', \n",
        "                    loss='mean_squared_error', \n",
        "                    metrics=['accuracy'])\n",
        "\n",
        "checkpointer = ModelCheckpoint(filepath=\"model.h5\",\n",
        "                               verbose=0,\n",
        "                               save_best_only=True)\n",
        "tensorboard = TensorBoard(log_dir='./logs',\n",
        "                          histogram_freq=0,\n",
        "                          write_graph=True,\n",
        "                          write_images=True)\n",
        "\n",
        "autoencoder.fit(X_train, X_train,\n",
        "                epochs=nb_epoch,\n",
        "                batch_size=batch_size,\n",
        "                shuffle=True,\n",
        "                validation_data=(X_test, X_test),\n",
        "                verbose=1,\n",
        "                callbacks=[checkpointer, tensorboard])"
      ],
      "execution_count": 0,
      "outputs": [
        {
          "output_type": "stream",
          "text": [
            "Train on 227451 samples, validate on 56962 samples\n",
            "Epoch 1/15\n",
            "227451/227451 [==============================] - 13s 55us/step - loss: 1.0001 - accuracy: 0.6246 - val_loss: 0.8483 - val_accuracy: 0.6761\n",
            "Epoch 2/15\n",
            "227451/227451 [==============================] - 12s 52us/step - loss: 0.8511 - accuracy: 0.6819 - val_loss: 0.8093 - val_accuracy: 0.6802\n",
            "Epoch 3/15\n",
            "227451/227451 [==============================] - 12s 53us/step - loss: 0.8223 - accuracy: 0.6829 - val_loss: 0.7963 - val_accuracy: 0.6688\n",
            "Epoch 4/15\n",
            "227451/227451 [==============================] - 12s 52us/step - loss: 0.8075 - accuracy: 0.6854 - val_loss: 0.7845 - val_accuracy: 0.6834\n",
            "Epoch 5/15\n",
            "227451/227451 [==============================] - 12s 54us/step - loss: 0.8000 - accuracy: 0.6855 - val_loss: 0.7762 - val_accuracy: 0.6919\n",
            "Epoch 6/15\n",
            "227451/227451 [==============================] - 13s 56us/step - loss: 0.7949 - accuracy: 0.6867 - val_loss: 0.7996 - val_accuracy: 0.6711\n",
            "Epoch 7/15\n",
            "227451/227451 [==============================] - 12s 55us/step - loss: 0.7896 - accuracy: 0.6888 - val_loss: 0.7753 - val_accuracy: 0.6906\n",
            "Epoch 8/15\n",
            "227451/227451 [==============================] - 13s 55us/step - loss: 0.7880 - accuracy: 0.6903 - val_loss: 0.7717 - val_accuracy: 0.7056\n",
            "Epoch 9/15\n",
            "227451/227451 [==============================] - 12s 54us/step - loss: 0.7834 - accuracy: 0.6919 - val_loss: 0.7706 - val_accuracy: 0.6954\n",
            "Epoch 10/15\n",
            "227451/227451 [==============================] - 12s 53us/step - loss: 0.7836 - accuracy: 0.6918 - val_loss: 0.7722 - val_accuracy: 0.7021\n",
            "Epoch 11/15\n",
            "227451/227451 [==============================] - 12s 51us/step - loss: 0.7793 - accuracy: 0.6940 - val_loss: 0.7663 - val_accuracy: 0.7066\n",
            "Epoch 12/15\n",
            "227451/227451 [==============================] - 12s 52us/step - loss: 0.7720 - accuracy: 0.6982 - val_loss: 0.7638 - val_accuracy: 0.7038\n",
            "Epoch 13/15\n",
            "227451/227451 [==============================] - 12s 53us/step - loss: 0.7690 - accuracy: 0.7001 - val_loss: 0.7641 - val_accuracy: 0.7053\n",
            "Epoch 14/15\n",
            "227451/227451 [==============================] - 12s 53us/step - loss: 0.7673 - accuracy: 0.7021 - val_loss: 0.7608 - val_accuracy: 0.7077\n",
            "Epoch 15/15\n",
            "227451/227451 [==============================] - 12s 53us/step - loss: 0.7661 - accuracy: 0.7020 - val_loss: 0.7636 - val_accuracy: 0.7087\n"
          ],
          "name": "stdout"
        },
        {
          "output_type": "execute_result",
          "data": {
            "text/plain": [
              "<keras.callbacks.callbacks.History at 0x7fb04a19ef60>"
            ]
          },
          "metadata": {
            "tags": []
          },
          "execution_count": 10
        }
      ]
    },
    {
      "cell_type": "code",
      "metadata": {
        "id": "UVUbx1HVIPEj",
        "colab_type": "code",
        "colab": {}
      },
      "source": [
        "x_pred_test = autoencoder.predict(X_test)\n",
        "res = np.sum((x_pred_test-X_test)**2,axis=1)"
      ],
      "execution_count": 0,
      "outputs": []
    },
    {
      "cell_type": "code",
      "metadata": {
        "id": "ekLtdx_xWw04",
        "colab_type": "code",
        "outputId": "116dc08a-e7c6-44e6-840b-260d43e9b32d",
        "colab": {
          "base_uri": "https://localhost:8080/",
          "height": 34
        }
      },
      "source": [
        "from sklearn import metrics\n",
        "fpr, tpr, thresholds = metrics.roc_curve(y_test, res)#, pos_label=2)\n",
        "metrics.auc(fpr, tpr)"
      ],
      "execution_count": 0,
      "outputs": [
        {
          "output_type": "execute_result",
          "data": {
            "text/plain": [
              "0.9601175163368669"
            ]
          },
          "metadata": {
            "tags": []
          },
          "execution_count": 23
        }
      ]
    },
    {
      "cell_type": "markdown",
      "metadata": {
        "id": "3335DOcSIPEk",
        "colab_type": "text"
      },
      "source": [
        "# up-sampling and gbm"
      ]
    },
    {
      "cell_type": "code",
      "metadata": {
        "id": "nQGkEVkmIPEk",
        "colab_type": "code",
        "colab": {}
      },
      "source": [
        "data['normAmount'] = StandardScaler().fit_transform(data['Amount'].values.reshape(-1, 1))\n",
        "data = data.drop(['Time', 'Amount'], axis=1)\n",
        "\n",
        "X = np.array(data.loc[:, data.columns != 'Class'])\n",
        "y = np.array(data.loc[:, data.columns == 'Class'])\n",
        "\n",
        "X_train, X_test, y_train, y_test = train_test_split(X, y, test_size=0.3, random_state=0)"
      ],
      "execution_count": 0,
      "outputs": []
    },
    {
      "cell_type": "code",
      "metadata": {
        "id": "wb_3sPrLIPEl",
        "colab_type": "code",
        "colab": {}
      },
      "source": [
        "train_matrix = xgb.DMatrix(X_train, y_train)\n",
        "test_matrix = xgb.DMatrix(X_test, y_test)\n",
        "\n",
        "param = {\n",
        "    'max_depth': 3, \n",
        "    'eta': 0.3, \n",
        "    'silent': 1,  \n",
        "    'objective': 'binary:logistic',  \n",
        "    'eval_metric': 'auc'}  \n",
        "\n",
        "num_round = 20 \n",
        "\n",
        "gbm = xgb.train(param, train_matrix, num_round)"
      ],
      "execution_count": 0,
      "outputs": []
    },
    {
      "cell_type": "code",
      "metadata": {
        "id": "AjyaUgaYIPEm",
        "colab_type": "code",
        "outputId": "66cf39b8-6b12-4c18-d9ce-18fffb1f86e0",
        "colab": {}
      },
      "source": [
        "# training auc\n",
        "y_probas = gbm.predict(train_matrix)\n",
        "fpr, tpr, thresholds = roc_curve(y_train,y_probas) \n",
        "auc(fpr, tpr)  "
      ],
      "execution_count": 0,
      "outputs": [
        {
          "output_type": "execute_result",
          "data": {
            "text/plain": [
              "0.9800803520980554"
            ]
          },
          "metadata": {
            "tags": []
          },
          "execution_count": 32
        }
      ]
    },
    {
      "cell_type": "code",
      "metadata": {
        "id": "qD7aIF4KIPEn",
        "colab_type": "code",
        "outputId": "ab8672c6-f72a-4799-cce3-3211ea0414e0",
        "colab": {}
      },
      "source": [
        "# test auc\n",
        "y_probas = gbm.predict(test_matrix)\n",
        "fpr, tpr, thresholds = roc_curve(y_test,y_probas) \n",
        "auc(fpr, tpr)   "
      ],
      "execution_count": 0,
      "outputs": [
        {
          "output_type": "execute_result",
          "data": {
            "text/plain": [
              "0.9568934495576509"
            ]
          },
          "metadata": {
            "tags": []
          },
          "execution_count": 36
        }
      ]
    },
    {
      "cell_type": "markdown",
      "metadata": {
        "id": "jeHuPpWIIPEo",
        "colab_type": "text"
      },
      "source": [
        "## SMOTE"
      ]
    },
    {
      "cell_type": "code",
      "metadata": {
        "id": "wDd-Dr8eIPEo",
        "colab_type": "code",
        "colab": {}
      },
      "source": [
        "sm = SMOTE(random_state = 42)\n",
        "X_train_sample, y_train_sample = sm.fit_sample(X_train, y_train.ravel())"
      ],
      "execution_count": 0,
      "outputs": []
    },
    {
      "cell_type": "code",
      "metadata": {
        "id": "NwSQRSP8IPEp",
        "colab_type": "code",
        "colab": {}
      },
      "source": [
        "train_matrix_sample = xgb.DMatrix(X_train_sample, y_train_sample)\n",
        "\n",
        "param = {\n",
        "    'max_depth': 3, \n",
        "    'eta': 0.3, \n",
        "    'silent': 1,  \n",
        "    'objective': 'binary:logistic',  \n",
        "    'eval_metric': 'auc'}  \n",
        "\n",
        "num_round = 20 \n",
        "\n",
        "gbm = xgb.train(param, train_matrix_sample, num_round)"
      ],
      "execution_count": 0,
      "outputs": []
    },
    {
      "cell_type": "code",
      "metadata": {
        "id": "Qr94DJ5AIPEq",
        "colab_type": "code",
        "outputId": "c3b7c462-4d2f-4178-eae8-39f46e858e2e",
        "colab": {}
      },
      "source": [
        "# training auc\n",
        "y_probas = gbm.predict(train_matrix)\n",
        "fpr, tpr, thresholds = roc_curve(y_train,y_probas) \n",
        "auc(fpr, tpr)   "
      ],
      "execution_count": 0,
      "outputs": [
        {
          "output_type": "execute_result",
          "data": {
            "text/plain": [
              "0.9972580725851606"
            ]
          },
          "metadata": {
            "tags": []
          },
          "execution_count": 40
        }
      ]
    },
    {
      "cell_type": "code",
      "metadata": {
        "id": "qjEKpXYCIPEr",
        "colab_type": "code",
        "outputId": "4763aa42-b9d6-46ff-edaf-14734d97bdd7",
        "colab": {}
      },
      "source": [
        "# test auc\n",
        "y_probas = gbm.predict(test_matrix)\n",
        "fpr, tpr, thresholds = roc_curve(y_test,y_probas)  \n",
        "auc(fpr, tpr)   "
      ],
      "execution_count": 0,
      "outputs": [
        {
          "output_type": "execute_result",
          "data": {
            "text/plain": [
              "0.9764162605578717"
            ]
          },
          "metadata": {
            "tags": []
          },
          "execution_count": 42
        }
      ]
    },
    {
      "cell_type": "markdown",
      "metadata": {
        "id": "1LMDXGdYIPEt",
        "colab_type": "text"
      },
      "source": [
        "## ADASYN"
      ]
    },
    {
      "cell_type": "code",
      "metadata": {
        "id": "uYLR_dW4IPEt",
        "colab_type": "code",
        "colab": {}
      },
      "source": [
        "adasyn = SMOTE(random_state = 42)\n",
        "X_train_sample, y_train_sample = adasyn.fit_sample(X_train, y_train.ravel())"
      ],
      "execution_count": 0,
      "outputs": []
    },
    {
      "cell_type": "code",
      "metadata": {
        "id": "pD7v7URdIPEu",
        "colab_type": "code",
        "colab": {}
      },
      "source": [
        "train_matrix_sample = xgb.DMatrix(X_train_sample, y_train_sample)\n",
        "\n",
        "param = {\n",
        "    'max_depth': 3, \n",
        "    'eta': 0.3, \n",
        "    'silent': 1,  \n",
        "    'objective': 'binary:logistic',  \n",
        "    'eval_metric': 'auc'}  \n",
        "\n",
        "num_round = 20 \n",
        "\n",
        "gbm = xgb.train(param, train_matrix_sample, num_round)"
      ],
      "execution_count": 0,
      "outputs": []
    },
    {
      "cell_type": "code",
      "metadata": {
        "id": "dg4JpOZHIPEv",
        "colab_type": "code",
        "outputId": "9e6ced4f-7e1a-4085-f283-0caf86f9624c",
        "colab": {}
      },
      "source": [
        "# training auc\n",
        "y_probas = gbm.predict(train_matrix)\n",
        "fpr, tpr, thresholds = roc_curve(y_train,y_probas) \n",
        "auc(fpr, tpr)   "
      ],
      "execution_count": 0,
      "outputs": [
        {
          "output_type": "execute_result",
          "data": {
            "text/plain": [
              "0.9972580725851606"
            ]
          },
          "metadata": {
            "tags": []
          },
          "execution_count": 45
        }
      ]
    },
    {
      "cell_type": "code",
      "metadata": {
        "id": "ot2bjvz5IPEw",
        "colab_type": "code",
        "outputId": "b8f46292-4f93-4bff-f8fd-30d212079d71",
        "colab": {}
      },
      "source": [
        "# test auc\n",
        "y_probas = gbm.predict(test_matrix)\n",
        "fpr, tpr, thresholds = roc_curve(y_test,y_probas)  \n",
        "auc(fpr, tpr)   "
      ],
      "execution_count": 0,
      "outputs": [
        {
          "output_type": "execute_result",
          "data": {
            "text/plain": [
              "0.9764162605578717"
            ]
          },
          "metadata": {
            "tags": []
          },
          "execution_count": 47
        }
      ]
    }
  ]
}