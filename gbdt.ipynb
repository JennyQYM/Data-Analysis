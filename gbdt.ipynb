{
 "cells": [
  {
   "cell_type": "code",
   "execution_count": 28,
   "metadata": {},
   "outputs": [],
   "source": [
    "import pandas as pd \n",
    "import numpy as np\n",
    "import xgboost as xgb \n",
    "from sklearn import metrics\n",
    "from sklearn.linear_model import LogisticRegression\n",
    "from sklearn.model_selection import train_test_split\n",
    "from sklearn.metrics import log_loss\n",
    "import matplotlib.pyplot as plt"
   ]
  },
  {
   "cell_type": "code",
   "execution_count": 29,
   "metadata": {},
   "outputs": [],
   "source": [
    "def preProcess():\n",
    "    path = 'data/'\n",
    "    df = pd.read_csv(path + 'data.csv')\n",
    "    df.drop(['Id'], axis = 1, inplace = True)\n",
    "    return df"
   ]
  },
  {
   "cell_type": "code",
   "execution_count": 30,
   "metadata": {},
   "outputs": [],
   "source": [
    "data = preProcess()\n",
    "continuous_feature = ['I'] * 13\n",
    "continuous_feature = [col + str(i + 1) for i, col in enumerate(continuous_feature)] \n",
    "category_feature = ['C'] * 26\n",
    "category_feature = [col + str(i + 1) for i, col in enumerate(category_feature)] "
   ]
  },
  {
   "cell_type": "code",
   "execution_count": 31,
   "metadata": {},
   "outputs": [],
   "source": [
    "for col in category_feature:\n",
    "    onehot_feats = pd.get_dummies(data[col], prefix = col)\n",
    "    data.drop([col], axis = 1, inplace = True)\n",
    "    data = pd.concat([data, onehot_feats], axis = 1)"
   ]
  },
  {
   "cell_type": "code",
   "execution_count": 34,
   "metadata": {},
   "outputs": [],
   "source": [
    "# train test splitting\n",
    "x_train, x_val, y_train, y_val = train_test_split(data.drop('Label',axis=1), data.Label, test_size = 0.2, random_state = 2020)\n",
    "train_matrix = xgb.DMatrix(x_train,y_train, missing = np.NAN)  \n",
    "valid_matrix = xgb.DMatrix(x_val,y_val, missing = np.NAN)"
   ]
  },
  {
   "cell_type": "code",
   "execution_count": 80,
   "metadata": {},
   "outputs": [],
   "source": [
    "params = {}\n",
    "params['objective'] = 'binary:logistic'  # output probabilities\n",
    "params['eval_metric'] = 'auc'\n",
    "params[\"num_rounds\"] = 100\n",
    "params[\"early_stopping_rounds\"] = 30\n",
    "params['max_depth'] = 6\n",
    "params['eta'] = 0.1\n",
    "params[\"subsample\"] = 0.8\n",
    "params[\"colsample_bytree\"] = 0.8\n",
    "\n",
    "model = xgb.train(params,train_matrix)"
   ]
  },
  {
   "cell_type": "code",
   "execution_count": 89,
   "metadata": {},
   "outputs": [
    {
     "data": {
      "text/plain": [
       "[<matplotlib.lines.Line2D at 0x127e37ac8>]"
      ]
     },
     "execution_count": 89,
     "metadata": {},
     "output_type": "execute_result"
    },
    {
     "data": {
      "image/png": "[encoded data removed]",
      "text/plain": [
       "<Figure size 432x288 with 1 Axes>"
      ]
     },
     "metadata": {
      "needs_background": "light"
     },
     "output_type": "display_data"
    }
   ],
   "source": [
    "ytest_predict = model.predict(train_matrix)\n",
    "fpr, tpr, thresholds = metrics.roc_curve(y_train, ytest_predict, pos_label=1)\n",
    "plt.plot(fpr, tpr)"
   ]
  },
  {
   "cell_type": "code",
   "execution_count": 87,
   "metadata": {},
   "outputs": [
    {
     "data": {
      "text/plain": [
       "0.8960946804641311"
      ]
     },
     "execution_count": 87,
     "metadata": {},
     "output_type": "execute_result"
    }
   ],
   "source": [
    "metrics.auc(fpr, tpr)"
   ]
  },
  {
   "cell_type": "code",
   "execution_count": null,
   "metadata": {},
   "outputs": [],
   "source": []
  },
  {
   "cell_type": "code",
   "execution_count": null,
   "metadata": {},
   "outputs": [],
   "source": []
  },
  {
   "cell_type": "code",
   "execution_count": null,
   "metadata": {},
   "outputs": [],
   "source": []
  },
  {
   "cell_type": "code",
   "execution_count": 122,
   "metadata": {},
   "outputs": [
    {
     "data": {
      "text/plain": [
       "LogisticRegression(C=1.0, class_weight=None, dual=False, fit_intercept=True,\n",
       "                   intercept_scaling=1, l1_ratio=None, max_iter=100,\n",
       "                   multi_class='auto', n_jobs=None, penalty='l2',\n",
       "                   random_state=None, solver='lbfgs', tol=0.0001, verbose=0,\n",
       "                   warm_start=False)"
      ]
     },
     "execution_count": 122,
     "metadata": {},
     "output_type": "execute_result"
    }
   ],
   "source": [
    "lr = LogisticRegression()\n",
    "lr.fit(x_train.fillna(-1), y_train)"
   ]
  },
  {
   "cell_type": "code",
   "execution_count": 100,
   "metadata": {},
   "outputs": [
    {
     "data": {
      "text/plain": [
       "[<matplotlib.lines.Line2D at 0x127e26358>]"
      ]
     },
     "execution_count": 100,
     "metadata": {},
     "output_type": "execute_result"
    },
    {
     "data": {
      "image/png": "[encoded data removed]",
      "text/plain": [
       "<Figure size 432x288 with 1 Axes>"
      ]
     },
     "metadata": {
      "needs_background": "light"
     },
     "output_type": "display_data"
    }
   ],
   "source": [
    "fpr, tpr, thresholds = metrics.roc_curve(y_train, lr.predict(x_train.fillna(-1)))\n",
    "plt.plot(fpr, tpr)"
   ]
  },
  {
   "cell_type": "code",
   "execution_count": 101,
   "metadata": {},
   "outputs": [
    {
     "data": {
      "text/plain": [
       "0.5401817870616679"
      ]
     },
     "execution_count": 101,
     "metadata": {},
     "output_type": "execute_result"
    }
   ],
   "source": [
    "metrics.auc(fpr, tpr)"
   ]
  },
  {
   "cell_type": "code",
   "execution_count": null,
   "metadata": {},
   "outputs": [],
   "source": []
  },
  {
   "cell_type": "code",
   "execution_count": null,
   "metadata": {},
   "outputs": [],
   "source": []
  },
  {
   "cell_type": "code",
   "execution_count": null,
   "metadata": {},
   "outputs": [],
   "source": []
  },
  {
   "cell_type": "code",
   "execution_count": 120,
   "metadata": {},
   "outputs": [
    {
     "data": {
      "text/plain": [
       "[<matplotlib.lines.Line2D at 0x12b030518>]"
      ]
     },
     "execution_count": 120,
     "metadata": {},
     "output_type": "execute_result"
    },
    {
     "data": {
      "image/png": "[encoded data removed]",
      "text/plain": [
       "<Figure size 432x288 with 1 Axes>"
      ]
     },
     "metadata": {
      "needs_background": "light"
     },
     "output_type": "display_data"
    }
   ],
   "source": [
    "gbdt_feats = model.predict(train_matrix, pred_leaf = True)\n",
    "gbdt_feats_name = ['gbdt_leaf_' + str(i) for i in range(10)]\n",
    "df_train = pd.DataFrame(gbdt_feats, columns = gbdt_feats_name) \n",
    "train_len = df_train.shape[0]\n",
    "\n",
    "# one-hot\n",
    "for col in gbdt_feats_name:\n",
    "    onehot_feats = pd.get_dummies(df_train[col], prefix = col)\n",
    "    df_train.drop([col], axis = 1, inplace = True)\n",
    "    df_train = pd.concat([df_train, onehot_feats], axis = 1)\n",
    "    \n",
    "lr = LogisticRegression()\n",
    "lr.fit(df_train, y_train)\n",
    "fpr, tpr, thresholds = metrics.roc_curve(y_train, lr.predict(df_train))\n",
    "plt.plot(fpr, tpr)"
   ]
  },
  {
   "cell_type": "code",
   "execution_count": 121,
   "metadata": {},
   "outputs": [
    {
     "data": {
      "text/plain": [
       "0.8564762977913122"
      ]
     },
     "execution_count": 121,
     "metadata": {},
     "output_type": "execute_result"
    }
   ],
   "source": [
    "metrics.auc(fpr, tpr)"
   ]
  },
  {
   "cell_type": "code",
   "execution_count": null,
   "metadata": {},
   "outputs": [],
   "source": []
  },
  {
   "cell_type": "code",
   "execution_count": null,
   "metadata": {},
   "outputs": [],
   "source": []
  },
  {
   "cell_type": "code",
   "execution_count": null,
   "metadata": {},
   "outputs": [],
   "source": []
  },
  {
   "cell_type": "code",
   "execution_count": 148,
   "metadata": {},
   "outputs": [],
   "source": [
    "import tensorflow as tf\n",
    "from sklearn.datasets import load_breast_cancer\n",
    "from sklearn.model_selection import train_test_split\n",
    "K = tf.keras.backend\n",
    "\n",
    "class MyLayer(tf.keras.layers.Layer):\n",
    "    def __init__(self, input_dim, output_dim=30, **kwargs):\n",
    "        self.input_dim = input_dim\n",
    "        self.output_dim = output_dim\n",
    "        super(MyLayer, self).__init__(**kwargs)\n",
    "\n",
    "    def build(self, input_shape):\n",
    "        self.kernel = self.add_weight(name='kernel', \n",
    "                                      shape=(self.input_dim, self.output_dim),\n",
    "                                      initializer='glorot_uniform',\n",
    "                                      trainable=True)\n",
    "        super(MyLayer, self).build(input_shape)\n",
    "\n",
    "    def call(self, x):\n",
    "        a = K.pow(K.dot(x,self.kernel), 2)\n",
    "        b = K.dot(K.pow(x, 2), K.pow(self.kernel, 2))\n",
    "        return K.mean(a-b, 1, keepdims=True)*0.5\n",
    "\n",
    "    def compute_output_shape(self, input_shape):\n",
    "        return (input_shape[0], self.output_dim)\n",
    "\n",
    "\n",
    "def mdl(feature_dim):\n",
    "    inputs = tf.keras.Input((feature_dim,))\n",
    "    liner = tf.keras.layers.Dense(units=1, \n",
    "                                  bias_regularizer=tf.keras.regularizers.l2(1),\n",
    "                                  kernel_regularizer=tf.keras.regularizers.l1(2),\n",
    "                                  )(inputs)\n",
    "    cross = MyLayer(feature_dim)(inputs)\n",
    "    add = tf.keras.layers.Add()([liner, cross])\n",
    "    predictions = tf.keras.layers.Activation('sigmoid')(add)\n",
    "    model = tf.keras.Model(inputs=inputs, outputs=predictions)\n",
    "    model.compile(loss='binary_crossentropy',\n",
    "                  optimizer=tf.optimizers.Adam(0.0001),\n",
    "                  metrics=['binary_accuracy'])\n",
    "    return model\n"
   ]
  },
  {
   "cell_type": "code",
   "execution_count": 150,
   "metadata": {},
   "outputs": [
    {
     "name": "stdout",
     "output_type": "stream",
     "text": [
      "Epoch 1/20\n",
      "80/80 [==============================] - 0s 2ms/step - loss: 201.0177 - binary_accuracy: 0.7263\n",
      "Epoch 2/20\n",
      "80/80 [==============================] - 0s 2ms/step - loss: 71.8254 - binary_accuracy: 0.7623\n",
      "Epoch 3/20\n",
      "80/80 [==============================] - 0s 2ms/step - loss: 11.6579 - binary_accuracy: 0.7592\n",
      "Epoch 4/20\n",
      "80/80 [==============================] - 0s 2ms/step - loss: 2.4334 - binary_accuracy: 0.7709\n",
      "Epoch 5/20\n",
      "80/80 [==============================] - 0s 2ms/step - loss: 3.2836 - binary_accuracy: 0.8014\n",
      "Epoch 6/20\n",
      "80/80 [==============================] - 0s 2ms/step - loss: 2.8018 - binary_accuracy: 0.7952\n",
      "Epoch 7/20\n",
      "80/80 [==============================] - 0s 2ms/step - loss: 2.3951 - binary_accuracy: 0.8413\n",
      "Epoch 8/20\n",
      "80/80 [==============================] - 0s 2ms/step - loss: 2.6739 - binary_accuracy: 0.8647\n",
      "Epoch 9/20\n",
      "80/80 [==============================] - 0s 2ms/step - loss: 1.6492 - binary_accuracy: 0.8616\n",
      "Epoch 10/20\n",
      "80/80 [==============================] - 0s 2ms/step - loss: 0.8064 - binary_accuracy: 0.9070\n",
      "Epoch 11/20\n",
      "80/80 [==============================] - 0s 2ms/step - loss: 2.6457 - binary_accuracy: 0.9148\n",
      "Epoch 12/20\n",
      "80/80 [==============================] - 0s 2ms/step - loss: 6.4231 - binary_accuracy: 0.8460\n",
      "Epoch 13/20\n",
      "80/80 [==============================] - 0s 2ms/step - loss: 3.2695 - binary_accuracy: 0.8898\n",
      "Epoch 14/20\n",
      "80/80 [==============================] - 0s 2ms/step - loss: 1.1036 - binary_accuracy: 0.9296\n",
      "Epoch 15/20\n",
      "80/80 [==============================] - 0s 2ms/step - loss: 2.2312 - binary_accuracy: 0.8921\n",
      "Epoch 16/20\n",
      "80/80 [==============================] - 0s 2ms/step - loss: 1.7091 - binary_accuracy: 0.9101\n",
      "Epoch 17/20\n",
      "80/80 [==============================] - 0s 2ms/step - loss: 2.1064 - binary_accuracy: 0.9218\n",
      "Epoch 18/20\n",
      "80/80 [==============================] - 0s 2ms/step - loss: 1.6496 - binary_accuracy: 0.9116\n",
      "Epoch 19/20\n",
      "80/80 [==============================] - 0s 2ms/step - loss: 0.8678 - binary_accuracy: 0.9304\n",
      "Epoch 20/20\n",
      "80/80 [==============================] - 0s 2ms/step - loss: 1.7251 - binary_accuracy: 0.9109\n"
     ]
    },
    {
     "data": {
      "text/plain": [
       "<tensorflow.python.keras.callbacks.History at 0x128ea85c0>"
      ]
     },
     "execution_count": 150,
     "metadata": {},
     "output_type": "execute_result"
    }
   ],
   "source": [
    "model = mdl(x_train.shape[1])\n",
    "model.fit(x_train.fillna(-1), y_train, epochs=20, batch_size=16)"
   ]
  },
  {
   "cell_type": "code",
   "execution_count": 153,
   "metadata": {},
   "outputs": [
    {
     "data": {
      "text/plain": [
       "[<matplotlib.lines.Line2D at 0x12d999358>]"
      ]
     },
     "execution_count": 153,
     "metadata": {},
     "output_type": "execute_result"
    },
    {
     "data": {
      "image/png": "[encoded data removed]",
      "text/plain": [
       "<Figure size 432x288 with 1 Axes>"
      ]
     },
     "metadata": {
      "needs_background": "light"
     },
     "output_type": "display_data"
    }
   ],
   "source": [
    "fpr, tpr, thresholds = metrics.roc_curve(y_train, model.predict(x_train.fillna(-1)))\n",
    "plt.plot(fpr, tpr)"
   ]
  }
 ],
 "metadata": {
  "kernelspec": {
   "display_name": "Python 3",
   "language": "python",
   "name": "python3"
  },
  "language_info": {
   "codemirror_mode": {
    "name": "ipython",
    "version": 3
   },
   "file_extension": ".py",
   "mimetype": "text/x-python",
   "name": "python",
   "nbconvert_exporter": "python",
   "pygments_lexer": "ipython3",
   "version": "3.7.3"
  },
  "toc": {
   "base_numbering": 1,
   "nav_menu": {},
   "number_sections": true,
   "sideBar": true,
   "skip_h1_title": false,
   "title_cell": "Table of Contents",
   "title_sidebar": "Contents",
   "toc_cell": false,
   "toc_position": {},
   "toc_section_display": true,
   "toc_window_display": false
  }
 },
 "nbformat": 4,
 "nbformat_minor": 2
}
